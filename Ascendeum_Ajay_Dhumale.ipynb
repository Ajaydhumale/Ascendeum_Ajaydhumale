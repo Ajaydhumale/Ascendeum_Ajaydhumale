{
 "cells": [
  {
   "cell_type": "code",
   "execution_count": 84,
   "id": "8b2f5fe5-5cbe-4703-9448-c27c03f1f977",
   "metadata": {},
   "outputs": [],
   "source": [
    "def spiral(n):\n",
    "    l2 = []\n",
    "    for i in range(n):\n",
    "        l1=[]\n",
    "        for j in range(n):\n",
    "            l1.append(0)\n",
    "        l2.append(l1)\n",
    "    left = 0\n",
    "    right = len(l2[0])-1 \n",
    "    top = 0\n",
    "    bottom = len(l2)-1\n",
    "    num = 1\n",
    "    while left <= right and top <=  bottom:\n",
    "        for i in range(left, right+1):\n",
    "            l2[top][i] = num\n",
    "            num = num+1\n",
    "        top = top+1\n",
    "        if left<=right:\n",
    "            for i in range(top, bottom+1):\n",
    "                l2[i][right] = num\n",
    "                num= num + 1\n",
    "            right = right - 1\n",
    "        if top<=bottom:\n",
    "            for i in range(right, left-1, -1):\n",
    "                l2[bottom][i] = num \n",
    "                num = num+1\n",
    "            bottom = bottom - 1\n",
    "        if left<=right:\n",
    "            for i in range(bottom, top-1, -1):\n",
    "                l2[i][left] = num\n",
    "                num = num+1\n",
    "            left = left+1\n",
    "\n",
    "    return l2"
   ]
  },
  {
   "cell_type": "code",
   "execution_count": 94,
   "id": "055771f0-07f4-4c49-996e-d45fa178ae6f",
   "metadata": {},
   "outputs": [
    {
     "name": "stdout",
     "output_type": "stream",
     "text": [
      "[1, 2, 3, 4] \n",
      "[12, 13, 14, 5] \n",
      "[11, 16, 15, 6] \n",
      "[10, 9, 8, 7] \n"
     ]
    }
   ],
   "source": [
    "n = 4\n",
    "output = spiral(n)\n",
    "for ele in output:\n",
    "    print(ele, end =' ')\n",
    "    print()"
   ]
  },
  {
   "cell_type": "code",
   "execution_count": 22,
   "id": "b0938e30-5069-4452-90b4-b9c39a496f58",
   "metadata": {},
   "outputs": [],
   "source": [
    "\n",
    "    "
   ]
  },
  {
   "cell_type": "code",
   "execution_count": null,
   "id": "c29b5e0a-5b9f-4855-b212-3b8619cb3549",
   "metadata": {},
   "outputs": [],
   "source": []
  }
 ],
 "metadata": {
  "kernelspec": {
   "display_name": "Python 3 (ipykernel)",
   "language": "python",
   "name": "python3"
  },
  "language_info": {
   "codemirror_mode": {
    "name": "ipython",
    "version": 3
   },
   "file_extension": ".py",
   "mimetype": "text/x-python",
   "name": "python",
   "nbconvert_exporter": "python",
   "pygments_lexer": "ipython3",
   "version": "3.12.4"
  }
 },
 "nbformat": 4,
 "nbformat_minor": 5
}
